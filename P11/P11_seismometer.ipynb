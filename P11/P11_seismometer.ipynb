{
 "cells": [
  {
   "cell_type": "markdown",
   "metadata": {},
   "source": [
    "<div style=\"background-color:#009440; padding: 0px; background-size:cover; background-opacity:50%; border-radius:5px; height:300px\">\n",
    "    <div style=\"margin: 5px; padding: 10px;\">\n",
    "    <h1 style=\"color:#00000\">Geophysical Data Acquisition and Analysis</h1>\n",
    "    <h5 style=\"color:#C0C0C0\">LMU, July 31, 2020</h5>\n",
    "    <h4 style=\"color:rgba(0,0,0,0.6)\">Alice Gabriel, Tobias Megies, Stephanie Wollherr, Sebastian Anger</h4>\n",
    "    </div>\n",
    "    <div style=\"float:right; margin: 20px; padding: 20px; background:rgba(255,255,255,0.7); width: 70%; height: 100px\">\n",
    "        <div style=\"position:relative; top:40%; transform: translateY(-50%)\">\n",
    "        <div style=\"font-size: x-large; font-weight:900; color:rgba(0,0,0,0.8); line-height:100%\">P11 - Seismometer response & equation</div>\n",
    "        </div>\n",
    "    </div>\n",
    "   \n",
    "</div>"
   ]
  },
  {
   "cell_type": "markdown",
   "metadata": {},
   "source": [
    "**Please, do not forget to execute Cell 1 first!**"
   ]
  },
  {
   "cell_type": "code",
   "execution_count": null,
   "metadata": {},
   "outputs": [],
   "source": [
    "# Cell 1: Preparation for programming\n",
    "%matplotlib notebook\n",
    "\n",
    "import warnings\n",
    "warnings.filterwarnings('ignore')                  # do not show warnings\n",
    "from scipy import interpolate, signal\n",
    "from time import *\n",
    "import numpy as np\n",
    "from obspy import *\n",
    "from obspy.core import read, UTCDateTime\n",
    "from obspy.clients.fdsn import Client\n",
    "from obspy.signal.invsim import paz_to_freq_resp\n",
    "import numpy as np\n",
    "import matplotlib \n",
    "import matplotlib.pyplot as plt\n",
    "import os\n",
    "import glob\n",
    "plt.style.use('ggplot')\n",
    "plt.rcParams['figure.figsize'] = 10, 10\n",
    "plt.rcParams['lines.linewidth'] = 1\n",
    "plt.rcParams['figure.facecolor'] = 'w'  # remove grey background"
   ]
  },
  {
   "cell_type": "markdown",
   "metadata": {},
   "source": [
    "## Exercise 1: Effect of damping on seismometer response"
   ]
  },
  {
   "cell_type": "markdown",
   "metadata": {},
   "source": [
    "In this exercise we will get acquainted with the seismometer response function. In the code cell below, you will find the poles and zeros of a mechanical seismometer.\n",
    "\n",
    "\n",
    "a) Estimate the eigenfrequency and the dampig of the system (out of the given impulse response). Plot the amplitude and phase transfer function\n",
    "\n",
    "b) Change the poles amd zeros to match the following eigenfrequencies and damping pairs 1.0:0.2; 1.0:0.5; 1.0:0.7; 2.0:0.6. Descripe what you see\n",
    "\n",
    "c) What would change if the sensor is changed to be a electro-dynamic sensor but the impulse still represents a pulse in displacement?\n"
   ]
  },
  {
   "cell_type": "code",
   "execution_count": null,
   "metadata": {},
   "outputs": [],
   "source": [
    "from obspy import *\n",
    "import numpy as np\n",
    "paz1 = {'poles': [-1.2566-6.15763j,-1.2566+6.15763j],\n",
    "            'zeros': [0j, 0j],\n",
    "            'gain': 1.0,\n",
    "            'sensitivity': 400.0}\n",
    "tr = Trace()\n",
    "tr.stats.sampling_rate=100\n",
    "tr.data = np.zeros(4096)\n",
    "tr.data[511] = 1.\n",
    "tr.simulate(paz_simulate=paz1)\n",
    "tr.plot()"
   ]
  },
  {
   "cell_type": "markdown",
   "metadata": {},
   "source": [
    "## Exercise 2: Seismometer characteristics"
   ]
  },
  {
   "cell_type": "markdown",
   "metadata": {},
   "source": [
    "Recall the seismometer equation:\n",
    "\n",
    "$\\ddot{x}_r (t)+ 2\\epsilon \\dot{x}_r (t) + \\omega_0^2 x_r (t) = -\\ddot{u}_g$\n",
    "\n",
    "where $2 \\epsilon = \\frac{D}{m} = 2h\\omega_0$ is the damping factor, $\\omega_0$ the natural frequency of the seismometer, $x_r$ the relative displacement of the mass within the seismometer, and $\\ddot{u}_g$ the ground accelleration. \n",
    "\n",
    "\n",
    "a) What happens to $\\ddot{x}_r$ (acceleration of the mass) when the mass moves very rapidly? What does that mean for $\\dot{x}_r$ and $x_r$? What does the seismometer measure in that case?\n",
    "\n",
    "b) Similarly, when the mass moves slowly: what happens to $\\ddot{x}_r$ and $\\dot{x}_r$? What do you measure? \n",
    "\n",
    "c) Can you interpret the two different shapes you saw in 1b) and 1c)? Hint: the output of the cell 3 may help!"
   ]
  },
  {
   "cell_type": "markdown",
   "metadata": {},
   "source": [
    "### Auxiliary plot: derivatives of source function"
   ]
  },
  {
   "cell_type": "code",
   "execution_count": null,
   "metadata": {},
   "outputs": [],
   "source": [
    "# Cell 3\n",
    "dt = .01                                                 # time increment for numerical scheme\n",
    "\n",
    "fu0=1  #you can adjust these parameters\n",
    "h=0.707  #you can adjust these parameters\n",
    "f_forcing=1.0 #you can adjust these parameters\n",
    "\n",
    "# initialize ground motion\n",
    "p = 1. / f_forcing\n",
    "nts = int(2. * p / dt)\n",
    "uii = np.zeros(nts)\n",
    "t0 = p / dt\n",
    "a_ricker = 4. / p\n",
    "for it in range(nts):\n",
    "    t = (it - t0) * dt\n",
    "    uii[it] = -2 * a_ricker * t * np.exp(-(a_ricker * t) ** 2)\n",
    "# end initialize ground motion\n",
    "\n",
    "nt = int(round(5. * 1. / fu0 / dt))                     # total number of time steps\n",
    "src = np.zeros(nt)\n",
    "src[0:len(uii)] = uii\n",
    "\n",
    "time = np.dot(np.arange(1, nt+1), dt)\n",
    "source = src[0:nt] / np.max(src[0:nt])\n",
    "firstderiv =np.gradient(source)\n",
    "secondderiv = np.gradient(firstderiv)\n",
    "\n",
    "plt.figure(figsize=(15,10))\n",
    "plt.subplot(221)\n",
    "plt.plot(time, source, 'b', label='Source function')\n",
    "plt.plot(time, firstderiv, 'g', label='First derivative' )\n",
    "plt.plot(time, secondderiv, 'r', label='Second derivative')\n",
    "plt.title(\"F0 = 1Hz, SRC = %.2f Hz, h = %.2f \" % (fu0, h))\n",
    "plt.axis([0, nt*dt, -1, 1])\n",
    "plt.ylabel(\"absolute amplitude\")\n",
    "plt.ylim(-1.1,1.1)\n",
    "plt.xlabel(\"Time (s)\")\n",
    "plt.legend()\n",
    "\n",
    "plt.subplot(222)\n",
    "plt.plot(time, source, 'b', label='Source function')\n",
    "plt.plot(time, firstderiv/np.max(np.abs((firstderiv))), 'g', label='First derivative' )\n",
    "plt.plot(time, secondderiv/np.max(np.abs((secondderiv))), 'r', label='Second derivative')\n",
    "plt.title(\"F0 = 1Hz, SRC = %.2f Hz, h = %.2f \" % (fu0, h))\n",
    "plt.axis([0, nt*dt, -1, 1])\n",
    "plt.ylabel(\"normalized amplitude\")\n",
    "plt.ylim(-1.1,1.1)\n",
    "plt.xlabel(\"Time (s)\")\n",
    "plt.legend()\n",
    "\n",
    "# preparation for subplot 3+4\n",
    "poles = [-6.2832-4.7124j, -6.2832+4.7124j]\n",
    "zeros = [0j]\n",
    "gain = 1.0\n",
    "h2, f = paz_to_freq_resp(poles, zeros, gain, dt, 200, freq=True)\n",
    "ind = (f==fu0).nonzero()[0]\n",
    "amp = abs(h2[ind])\n",
    "# end preparation subplot 3+4\n",
    "\n",
    "plt.subplot(223)\n",
    "plt.loglog(f, abs(h2), 'k', label=\"amplitude of Wood Anderson\")\n",
    "plt.plot(fu0, amp,'bo', label=\"current position\")\n",
    "plt.xlabel('Frequency [Hz]')\n",
    "plt.ylabel('Amplitude')\n",
    "plt.ylim(0.001, 1.)\n",
    "plt.xlim(0.1,100)\n",
    "plt.legend()\n",
    "\n",
    "plt.subplot(224)\n",
    "# take negative of imaginary part, see documentation of paz_to_freq_resp \n",
    "phase = np.unwrap(np.arctan2(-h2.imag, h2.real))\n",
    "plt.semilogx(f, phase, 'k', label=\"phase of Wood Anderson\")\n",
    "plt.xlabel('Frequency [Hz]')\n",
    "plt.ylabel('Phase [radian]')\n",
    "plt.xlim(0.1,100)\n",
    "plt.ylim(-1,2)\n",
    "plt.legend()\n",
    "\n",
    "plt.subplots_adjust(wspace=0.3, hspace=0.3)\n",
    "plt.show()"
   ]
  },
  {
   "cell_type": "code",
   "execution_count": null,
   "metadata": {},
   "outputs": [],
   "source": []
  }
 ],
 "metadata": {
  "kernelspec": {
   "display_name": "Python 3 (ipykernel)",
   "language": "python",
   "name": "python3"
  },
  "language_info": {
   "codemirror_mode": {
    "name": "ipython",
    "version": 3
   },
   "file_extension": ".py",
   "mimetype": "text/x-python",
   "name": "python",
   "nbconvert_exporter": "python",
   "pygments_lexer": "ipython3",
   "version": "3.11.3"
  }
 },
 "nbformat": 4,
 "nbformat_minor": 1
}
