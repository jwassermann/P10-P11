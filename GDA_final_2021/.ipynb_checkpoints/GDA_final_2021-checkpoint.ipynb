{
 "cells": [
  {
   "cell_type": "markdown",
   "metadata": {},
   "source": [
    "<div style=\"background-color:#009440; padding: 0px; background-size:cover; background-opacity:50%; border-radius:5px; height:300px\">\n",
    "    <div style=\"margin: 5px; padding: 10px;\">\n",
    "    <h1 style=\"color:#00000\">Geophysical Data Acquisition and Analysis</h1>\n",
    "    <h5 style=\"color:#C0C0C0\">LMU, summer 2020</h5>\n",
    "    <h4 style=\"color:rgba(0,0,0,0.6)\">Heiner Igel, Joachim Wassermann</h4>\n",
    "    </div>\n",
    "    <div style=\"float:right; margin: 20px; padding: 20px; background:rgba(255,255,255,0.7); width: 70%; height: 100px\">\n",
    "        <div style=\"position:relative; top:40%; transform: translateY(-50%)\">\n",
    "        <div style=\"font-size: x-large; font-weight:900; color:rgba(0,0,0,0.8); line-height:100%\">P2.4 - Final exam report </div>\n",
    "        </div>\n",
    "    </div>\n",
    "   \n",
    "</div>"
   ]
  },
  {
   "cell_type": "markdown",
   "metadata": {},
   "source": [
    "## Rules + deadline\n",
    "\n",
    "In the following you find five exercises plus some basic code. Adapt the code as needed to answer the questions and provide your answers in separate markdown cells below the exercise. Please, do not forget to label axes, lines, titles, etc in your plot. <br>\n",
    "Please, make sure that your answers are as elaborate and detailed as necessary to make your answer clear. However, concentrate on the essentials. \n",
    "\n",
    "In case, you refer to literature/sources outside the course material, do not forget to acknowledge/cite it properly. You are allowed to also include images from outside the notebook if that may help you to explain. Please, do not forget to provide us with the image files then. This is how you import figures: \n",
    "\n",
    "`<img style=\"float: left; height: 350px; padding: 10px\" src=\"DATA/figure.jpg\"/>`\n",
    "\n",
    "For help in coding, please, consult the NB of the practicals and the official [Python](http://docs.python.org/) and [ObsPy](http://docs.obspy.org) documentation. If these helps do not solve your problem, contact one of the lecturers.  \n",
    "For help in formating the markdown cells, you can find help e.g. at the webpage of [wikipedia](https://en.wikipedia.org/wiki/Markdown) or on the [cheat sheet](https://github.com/adam-p/markdown-here/wiki/Markdown-Cheatsheet). In case of severe problems, please, contact us in time.\n",
    "\n",
    "Please, submit your final notebook via mail to Alice Gabriel (gabriel@geophysik.uni-muenchen.de) latest \n",
    "\n",
    "### Monday, August 2th 2021, 12:00am (noon) !\n",
    "\n",
    "Notebooks received after that time will not be considered.\n",
    "\n",
    "*Please, do not forget to execute Cell 0 first!*\n",
    "\n"
   ]
  },
  {
   "cell_type": "markdown",
   "metadata": {},
   "source": [
    "___\n",
    "\n",
    "## Name:  \n",
    "## Matrikel number:  \n",
    "\n",
    "___\n",
    "\n"
   ]
  },
  {
   "cell_type": "code",
   "execution_count": null,
   "metadata": {},
   "outputs": [],
   "source": [
    "# Cell 0: Preparation for programming\n",
    "%matplotlib inline\n",
    "\n",
    "# alternative: interactive notebook backend\n",
    "#%matplotlib notebook\n",
    "\n",
    "import warnings\n",
    "warnings.filterwarnings('ignore')                  # do not show warnings\n",
    "from __future__ import print_function\n",
    "from scipy import interpolate, signal\n",
    "from obspy import read, UTCDateTime, Stream, Trace\n",
    "from obspy.clients.fdsn import Client\n",
    "from obspy.signal.cross_correlation import xcorr_pick_correction\n",
    "import numpy as np\n",
    "import matplotlib.pylab as plt\n",
    "import os\n",
    "import glob\n",
    "\n",
    "plt.style.use('ggplot')\n",
    "plt.rcParams['figure.figsize'] = 10, 10\n",
    "plt.rcParams['figure.dpi'] = 72\n",
    "plt.rcParams['lines.linewidth'] = 1"
   ]
  },
  {
   "cell_type": "markdown",
   "metadata": {},
   "source": [
    "______________\n",
    "\n",
    "## Exercise 1\n",
    "\n",
    "In this exercise you will work on broadband data from the Mw8.2 Chile earthquake from 1st of April 2014 at 23:46:47 UTC recorded at the Black Forest Observatory (`BFO`) in SW Germany which is part of the German Regional Seismic Network (`GR`). The goal of this exercise is to show your understanding of the principal basics in signal processing. Answer the following questions and perform the necessary steps in the corresponding code cells.\n",
    "\n",
    "**a)** In `cell 1a` we fetch the waveforms via the FDSN client of BGR in Hanover and remove the instrument characteristic of the data (no further coding necessary here). We also fetch the event information. Explain what \"removing the instrument response\" means and why it is necessary. Which mathematical method do you connect with this step? What is to consider during instrument response removal? A hint is given by the options used for removing the instrument response. Comment on all of them.\n",
    "\n",
    "**b)** Now that you have downloaded the data and removed the instrument response, which further steps do you need to perform for pre-processing (assuming you want to analyse the data in the frequency domain later on)? Assume that for your scientific task the highest frequency you want to analyse is 5Hz and that the processing workflow will eventually be applied to a large amount of data. Describe the general pre-processing chain and point out the possible pitfalls, their reasons, and how to avoid them. \n",
    "\n",
    "**c)**: Try to plot the ray paths for this specific earthquake-receiver pair. Identify which phases should theoretically be visible in the seismogram. Try to plot them along with the waveform to see if they can be seen in the seismogram.\n",
    "Help for coding can be found [here](https://docs.obspy.org/packages/obspy.taup.html?highlight=taup#module-obspy.taup) and [here](https://docs.obspy.org/packages/autogen/obspy.taup.tau.TauPyModel.get_ray_paths.html?highlight=get%20ray%20path#obspy.taup.tau.TauPyModel.get_ray_paths)."
   ]
  },
  {
   "cell_type": "code",
   "execution_count": null,
   "metadata": {},
   "outputs": [],
   "source": [
    "# Cell 1a : getting the waveforms, station inventory and event information\n",
    "from obspy.clients.fdsn import Client\n",
    "\n",
    "client_bgr = Client(\"BGR\")\n",
    "client_usgs = Client(\"USGS\")\n",
    "\n",
    "origin_time = UTCDateTime(\"2014-04-01T23:46:47\")\n",
    "\n",
    "st = client_bgr.get_waveforms(\"GR\", \"BFO\", \"*\", \"BH?\", origin_time, origin_time + (180 * 60))\n",
    "inventory = client_bgr.get_stations(network='GR', station='BFO', channel='BH?', level='response')\n",
    "event = client_usgs.get_events(minmagnitude=8, starttime=origin_time - 100, endtime=origin_time + 100)[0]\n",
    "\n",
    "print(st)\n",
    "\n",
    "plot = True\n",
    "for i, tr in enumerate(st):\n",
    "    # only plot the response removal for one trace..\n",
    "    if i > 0:\n",
    "        plot = False\n",
    "    tr.remove_response(inventory=inventory, output=\"VEL\", pre_filt=None, water_level=30,\n",
    "                       zero_mean=True, taper=True, taper_fraction=0.05, plot=plot)"
   ]
  },
  {
   "cell_type": "code",
   "execution_count": null,
   "metadata": {},
   "outputs": [],
   "source": [
    "# Cell 1b: pre-processing the data\n",
    "\n",
    "# take a copy of the stream to avoid overwriting the original data\n",
    "bfo = st.copy()\n",
    "\n"
   ]
  },
  {
   "cell_type": "code",
   "execution_count": null,
   "metadata": {},
   "outputs": [],
   "source": [
    "# Cell 1c - part 1: plot of ray pathes for this EQ-receiver pair\n",
    "\n",
    "# loading some necessary package as a hint ...\n",
    "from obspy.taup import TauPyModel\n"
   ]
  },
  {
   "cell_type": "code",
   "execution_count": null,
   "metadata": {},
   "outputs": [],
   "source": [
    "# Cell 1c - part 2: plot seismogram with theoretical travel times\n",
    "\n",
    "# loading some necessary package as a hint ...\n",
    "import matplotlib.pylab as plt\n"
   ]
  },
  {
   "cell_type": "markdown",
   "metadata": {},
   "source": [
    "### Answer to exercise 1\n",
    "\n",
    "..."
   ]
  },
  {
   "cell_type": "markdown",
   "metadata": {},
   "source": [
    "_____________\n",
    "## Exercise 2 : Marienplatz Glockenspiel - spectral analysis\n",
    "\n",
    "In the very top of the tower of the New Town Hall (Rathaus) on Marienplatz, there are 43 bells, which chime different tunes daily at 11am and 12am. The tunes accompany a spectacle of figurines that move and illustrate local stories.  \n",
    "In this exercise, we will analyze a recording of the Glockenspiel bells. \n",
    "\n",
    "You can read more about the Glockenspiel here: https://en.wikipedia.org/wiki/Rathaus-Glockenspiel\n",
    "\n",
    "You can listen to the first tune of the Glockenspiel recording by playing `data/Glockenspiel_Marienplatz_track1.wav`  \n",
    "\n",
    "\n",
    "---\n",
    "\n",
    "<img style=\"float: left; height: 350px; padding: 10px\" src=\"data/rathaus_munchen.jpg\"  />\n",
    "<img style=\"float: right; height: 350px; padding: 10px\" src=\"data/glockenspiel_inside.jpg\"  />\n",
    "\n",
    "\n",
    "###### Acknowledgement\n",
    "_photo Rathaus (left): _ https://commons.wikimedia.org/wiki/File:Altes_Rathaus_und_Mariens%C3%A4ule_in_M%C3%BCnchen.jpg  \n",
    "_photo inside Glockenspiel (right): Thies Heidecke_  \n",
    "_We are grateful to the personnell at the Rathaus for providing access to the Glockenspiel tower._  \n",
    "_We thank Thies Heidecke for his help with the recording. _"
   ]
  },
  {
   "cell_type": "code",
   "execution_count": null,
   "metadata": {},
   "outputs": [],
   "source": [
    "# Cell 2a: read .wav into obspy Stream object\n",
    "\n",
    "#KEEP\n",
    "\n",
    "# read in the file \n",
    "dataDir = './data/'\n",
    "fileName = 'Glockenspiel_Marienplatz_track1.wav'\n",
    "\n",
    "# on Windows, paths might have to be changed to e.g. 'data\\\\Glockenspiel_Marienplatz_track1.wav'\n",
    "# (escaping backslash character with another backslash likely necessary)\n",
    "\n",
    "# if your computer cannot handle the complete tune, use this file instead (only first 15 seconds)\n",
    "#fileName = 'Glockenspiel_Marienplatz_track1_short.wav'\n",
    "\n",
    "st = read(dataDir + fileName)\n",
    "print(st)\n",
    "st.plot()\n",
    "\n",
    "# just the signal array and time vector\n",
    "gsignal = st[0].data\n",
    "time = st[0].times()\n",
    "frame_rate = st[0].stats.sampling_rate"
   ]
  },
  {
   "cell_type": "markdown",
   "metadata": {},
   "source": [
    "### Questions - part 1/2\n",
    "\n",
    "**Note:** if the signal is too large for your computer to handle, use the alternative, shorter signal which contains only the first 15 seconds of the tune. See Cell 2a, where the filename is defined. \n",
    "\n",
    "Create several subplots: plot the signal on top, and below that create two subplots: in the first, plot the spectrogram using a window length of 256 samples. \n",
    "In the second, plot the spectrogram with a window length of 4096 samples. In both, use an overlap of 50 samples.\n",
    "You can use use matplotlib on the plain numpy array `gsignal` ([see here](https://matplotlib.org/api/_as_gen/matplotlib.pyplot.specgram.html); note that [ObsPy also has a spectrogram routine](http://docs.obspy.org/packages/autogen/obspy.core.stream.Stream.spectrogram.html) callable on the stream object `st` but it uses slightly different controls on the window length etc. so we use matplotlib with the plain numpy array here)\n",
    "\n",
    "a) Explain what a spectrogram (in general) represents. Through which mathematical operation is the y-axis (frequency axis) created? What controls the value of the upper limit of the y-axis?\n",
    "\n",
    "b) Compare the spectrograms with `NFFT=256` and `NFFT=4096`. What difference between the two do you notice? Think in terms of time and frequency resolution. Explain why this happens.  \n",
    "Remember you can zoom in to specific parts of the signal by manipulating the plot limits (`plt.xlim((value1, value2))` or `plt.ylim((value1, value2))`)\n",
    "\n",
    "c) On both spectrograms, zoom in to frequency around 6780 Hz using `plt.ylim((value1, value2))`. This frequency corresponds to one of the bells. Isolate the signal of this bell as much as you can using a filter.  \n",
    "Go to Cell 2c. In a new plot, plot the original (unfiltered) signal and the filtered signal on top of each other with different colors. How often does the 6780Hz bell ring in the first 10 seconds of the song? (You may want to trim the signal to the first 10 seconds first). \n",
    "\n",
    "d) If you plot a spectrogram of the filtered signal, you will see that the energy of the signal outside your filter band is not exactly zero. What is this effect called?  \n",
    "Explain how you could achieve a narrower filter (you do not need to execute it for this signal, just describe). What kind of tradeoff will you encounter as you use a narrower filter window? \n",
    "\n",
    "### Answer to exercise 2 - part 1/2\n"
   ]
  },
  {
   "cell_type": "code",
   "execution_count": null,
   "metadata": {},
   "outputs": [],
   "source": [
    "# Cell 2b - compare spectograms\n",
    "\n",
    "NFFT = 256     # length of spectrogram window in sample points, version 1, originally 256\n",
    "NFFT2 = 4096    # length of spectrogram window, version 2, originally 4096\n",
    "\n"
   ]
  },
  {
   "cell_type": "markdown",
   "metadata": {},
   "source": [
    "a) ...   \n",
    "\n",
    "b) ...\n"
   ]
  },
  {
   "cell_type": "code",
   "execution_count": null,
   "metadata": {},
   "outputs": [],
   "source": [
    "# Cell 2c - isolate single bell\n",
    "\n",
    "f_bell = 6780\n",
    "stb = st.copy()\n"
   ]
  },
  {
   "cell_type": "markdown",
   "metadata": {},
   "source": [
    "c) ...   \n",
    "\n",
    "d) ...\n"
   ]
  },
  {
   "cell_type": "markdown",
   "metadata": {},
   "source": [
    "---\n",
    "### Questions - part 2/2\n",
    "\n",
    "In the following Cell 2d, we consider part of the spectral content of a single bell chime. The spectrum is calculated for several different lengths of time window:  \n",
    "1. the complete bell chime (approx. 0.8 seconds)\n",
    "2. a short time window (500 samples)\n",
    "3. a longer time window (3000 samples)\n",
    "4. the longer time window, with the rest of the signal set to zero (so 3000 samples + zero padding to complete signal length) (**Note:** in the first plot, the blue signal is offset downwards by 500 points. This is just to make the difference between green and blue line more visible. ) \n",
    "\n",
    "Explain the difference between the spectra obtained with the different time window lengths. \n",
    "In particular, consider why the peak around f=3750Hz does not show up when using the shortest time window (red line). Why is the blue spectrum (4.) smoother than the green one (3.)?   \n",
    "\n",
    "Hint: Play with the scaling of the y-axis (`plt.ylim()`) of the spectrum plot to see the differnces in the amplitudes. "
   ]
  },
  {
   "cell_type": "code",
   "execution_count": null,
   "metadata": {},
   "outputs": [],
   "source": [
    "# Cell 2d - single bell chime\n",
    "\n",
    "# KEEP all\n",
    "\n",
    "NFFT = 256\n",
    "\n",
    "noverlap = 50\n",
    "\n",
    "# time limits to trim signal to, in seconds \n",
    "ts1 = st[0].stats.starttime + 9.1\n",
    "ts2 = ts1 + 0.8\n",
    "\n",
    "# subwindow lengths, in samples\n",
    "lwin1 = 500\n",
    "lwin2 = 3000\n",
    "\n",
    "# time limits for subwindow in signal, in samples\n",
    "lim1 = 17000\n",
    "lim2 = lim1 + lwin1\n",
    "lim3 = lim1 + lwin2\n",
    "\n",
    "stsh = st.copy()\n",
    "stsh.trim(ts1, ts2)\n",
    "print(stsh)\n",
    "\n",
    "stz = st.copy()\n",
    "stz.trim(ts1, ts2)\n",
    "# set signal outside subwindow to zero\n",
    "stz[0].data[0:lim1] = 0\n",
    "stz[0].data[lim3:] = 0\n",
    "\n",
    "# calculate spectrum for different window lengths:\n",
    "# whole signal (black)\n",
    "f, Pxx_den = signal.periodogram(stsh[0].data, stsh[0].stats.sampling_rate)\n",
    "# short timew window (red)\n",
    "f2, Pxx_den2 = signal.periodogram(stsh[0].data[lim1:lim2], stsh[0].stats.sampling_rate)\n",
    "# longer time window (green)\n",
    "f3, Pxx_den3 = signal.periodogram(stz[0].data[lim1:lim3], stz[0].stats.sampling_rate)\n",
    "# longer time window, with zero padding around it (blue)\n",
    "f4, Pxx_den4 = signal.periodogram(stz[0].data, stz[0].stats.sampling_rate)\n",
    "\n",
    "# plot signal, spectrogram and spectrum (zoomed in to 2 peaks, as indicated by black box in spectrogram)\n",
    "plt.figure(figsize=(15,12))\n",
    "\n",
    "# time series\n",
    "ax1 = plt.subplot(311)\n",
    "plt.plot(stsh[0].times(), stsh[0].data, 'k', label='whole signal')\n",
    "plt.plot(stz[0].times(), stz[0].data - 500, 'b', label='longer timewindow, zero padded')\n",
    "plt.plot(stz[0].times()[lim1:lim3], stz[0].data[lim1:lim3], 'g', label='longer timewindow')\n",
    "plt.plot(stsh[0].times()[lim1:lim2], stsh[0].data[lim1:lim2], 'r', label='short timewindow')\n",
    "plt.legend()\n",
    "plt.xlabel('time [s]')\n",
    "plt.title('Glockenspiel, different subwindows')\n",
    "\n",
    "plt.subplot(312, sharex=ax1)\n",
    "plt.title('spectrogram, window length %s pts' % NFFT)\n",
    "# Pxx is the segments x freqs array of instantaneous power, freqs is\n",
    "# the frequency vector, bins are the centers of the time bins in which\n",
    "# the power is computed, and im is the matplotlib.image.AxesImage instance\n",
    "Pxx, freqs, bins, im = plt.specgram(stsh[0].data, NFFT=NFFT, Fs=frame_rate, noverlap=noverlap,\n",
    "                                    cmap='magma', sides='onesided')\n",
    "#draw box\n",
    "plt.plot((lim1/frame_rate, (lim2+2000)/frame_rate), (3000, 3000), 'k-', lw=2)\n",
    "plt.plot((lim1/frame_rate, (lim2+2000)/frame_rate), (4000, 4000), 'k-', lw=2)\n",
    "plt.plot((lim1/frame_rate, lim1/frame_rate), (3000, 4000), 'k-', lw=2)\n",
    "plt.plot(((lim2+2000)/frame_rate, (lim2+2000)/frame_rate), (3000, 4000), 'k-', lw=2)\n",
    "\n",
    "#plt.ylim((0,5000))\n",
    "plt.ylabel('frequency [Hz]')\n",
    "plt.xlabel('time [s]')\n",
    "\n",
    "# show spectra calculated with different timewindows\n",
    "plt.subplot(313)\n",
    "plt.plot(f, Pxx_den, 'k', label='whole signal')\n",
    "plt.plot(f2, Pxx_den2, 'r', label='short timewindow')\n",
    "plt.plot(f3, Pxx_den3, 'g', label='longer timewindow')\n",
    "plt.plot(f4, Pxx_den4, 'b', label='longer timewindow, zero padded')\n",
    "plt.legend(loc='upper left')\n",
    "plt.xlabel('frequency [Hz]')\n",
    "plt.title(\"spectrum, zoom on box\")\n",
    "plt.xlim((3000,4000))\n",
    "plt.ylim((0,300))\n",
    "# prevent subplots overlapping\n",
    "plt.tight_layout() \n",
    "plt.show()"
   ]
  },
  {
   "cell_type": "markdown",
   "metadata": {},
   "source": [
    "### Answer to exercise 2 - part 2/2   \n",
    "\n",
    "..."
   ]
  },
  {
   "cell_type": "markdown",
   "metadata": {},
   "source": [
    "_______________________\n",
    "\n",
    "## Exercise 3\n",
    "\n",
    "This question is about convolution of signals. You are provided with two signals. \n",
    "\n",
    "a) What is a convolution? Convolution is closely connected to a special kind of system. Which one? Describe the connection. <br> \n",
    "Using [signal.convolve](http://docs.scipy.org/doc/scipy/reference/generated/scipy.signal.convolve.html) convolve the two signals in Cell 3a. Set the mode='same'. Explain the meaning of the mode parameter. <br>\n",
    "Plot the original signals and the convolved signal. Be careful to plot the entire signal on both the x and y axes. Include labels. Are convolutions commutative? \n",
    "\n",
    "b) In cell 3c, convolve the signals win and sig in the reverse order, continuing to use mode='same'. Replot. <br>\n",
    "Are the results the same or different from cell 2a? Explain this result. Explain any inconsistencies.\n",
    "\n",
    "c) Bonus: Amend the signals so that convolving them in the reverse order gives the same result as convolving them in original order. Hint: There are two possible solutions to do that."
   ]
  },
  {
   "cell_type": "code",
   "execution_count": null,
   "metadata": {},
   "outputs": [],
   "source": [
    "#Cell 3a - convolving two signals + plotting\n",
    "\n",
    "# make a box car function\n",
    "sig = np.repeat([0., 1., 0.], 100)\n",
    "# make a Hann window \n",
    "win = signal.hann(50)\n",
    "\n",
    "# convolve the signals\n",
    "\n",
    "\n",
    "\n"
   ]
  },
  {
   "cell_type": "code",
   "execution_count": null,
   "metadata": {},
   "outputs": [],
   "source": [
    "# Cell 3b - convolution in reverse order + plotting\n",
    "\n",
    "# make a box car function\n",
    "sig = np.repeat([0., 1., 0.], 100)\n",
    "# make a Hann window \n",
    "win = signal.hann(50)\n",
    "\n",
    "# convolve the signals IN REVERSE ORDER\n",
    "\n",
    "\n",
    "\n"
   ]
  },
  {
   "cell_type": "code",
   "execution_count": null,
   "metadata": {},
   "outputs": [],
   "source": [
    "# Cell 3c - amend signals and convolve again (bonus)\n",
    "\n",
    "\n",
    "\n",
    "\n"
   ]
  },
  {
   "cell_type": "markdown",
   "metadata": {},
   "source": [
    "### Answer to exercise 3\n",
    "\n",
    "a) ...  \n",
    "\n",
    "b) ...  \n",
    "\n",
    "c) ...\n"
   ]
  },
  {
   "cell_type": "markdown",
   "metadata": {},
   "source": [
    "__________________\n",
    "\n",
    "## Exercise 4\n",
    "\n",
    "\n",
    "In Cell 4a theoretical gravity data, modeled for the location in Wettzell, are loaded. The data show a superposition of tidal effects due to different celestial bodies. Here is a short overview of the most important ones, sorted according the amplitude of their influence on Earth:\n",
    "+ tides with a period of half a day from sun, moon, Mars, Jupiter, etc. ..., period: 0.5 day \n",
    "+ tides with a period of one day from sun, moon, Mars, Jupiter, etc. ..., period: 1 days\n",
    "+ cycle of the orbit of the moon, period: 28 days\n",
    "+ equinox - sun and moon passing the equator plane, period: 186 days (about every six months)\n",
    "+ Chandler wobble (deviation of Earth's axis of rotation relative to the solid Earth), period: 433 days\n",
    "+ effects due to further planets ....\n",
    "\n",
    "\n",
    "a) In Cell 4b, calculate the spectrum of the data (what is that?) and plot it (as a log-log plot). What is the Nyquist frequency of the data. Try to identify the different tidal effects and name the frequencies of their peak positions. Why is the peak for the Chandler wobble not really visible in the spectrogram?\n",
    "Hint: For calculating the spectrum, you can use the function [periodogram](http://docs.scipy.org/doc/scipy-0.13.0/reference/generated/scipy.signal.periodogram.html) of the scipy.signal package.  \n",
    "If you want to mark the separate tides in the plot, you can use [matplotlib.axvline()](http://matplotlib.org/api/_as_gen/matplotlib.axes.Axes.axvline.html).  \n",
    "**Bonus**: Between the full day tide and the moon orbit is another distinct peak in the spectrum. What frequency is it and can you explain its causes?\n",
    "\n",
    "b) In Cell 4c, try to separate the first two tides (half day and full day tide) together from the other tidal effects. Which filter do you choose and why? Plot the filtered signal for the first 20 days.  \n",
    "Generally spoken, what is filtering (what happens in terms of digital data analysis)?   \n",
    "What different kinds of filters do you know in terms of frequency range?. Describe them.    \n",
    "How many different ways of providing a characterisitc of a specific filter do you know? Describe them.\n",
    "\n",
    "c) Now, isolate the half day and full day tides separately from each other. Which filter do you choose this time and why? Plot the filtered signals for the first 20 days on top of the filtered data from exercise 1b (You should have now 1 plot with 3 traces now). What differences do you see (consider amplitude and phase)? Explain the differences. With respect to the phase of the data, is there something you would like to change? What and Why?\n"
   ]
  },
  {
   "cell_type": "code",
   "execution_count": null,
   "metadata": {},
   "outputs": [],
   "source": [
    "# Cell 4a - reading and plotting gravity data\n",
    "# read in gravity data, modeled for Wettzell, Germany. Units is in nm/s^2 vertical acceleration. \n",
    "filename = 'data/gravity.dat'\n",
    "\n",
    "# prepare to input data into obspy Stream\n",
    "data = np.loadtxt(filename, dtype='float32', comments=\"#\")\n",
    "stats = {'network': 'XX', 'station': 'WETZ', 'location': '',\n",
    "         'channel': 'XZ', 'npts': len(data), 'delta': 3600}\n",
    "\n",
    "stats['starttime'] = UTCDateTime(\"2015,01,01,00,00,00\")\n",
    "s = Stream([Trace(data=data, header=stats)])\n",
    "\n",
    "# write as MSEED file\n",
    "s.write(\"gravity.mseed\", format='MSEED')\n",
    "\n",
    "# test that it worked, read stream from file and plot\n",
    "st = read(\"gravity.mseed\")\n",
    "print(st)\n",
    "print(st[0].stats)\n",
    "#st.plot()\n",
    "\n",
    "plt.plot(st[0].times()/(3600*24), st[0].data, color='b')\n",
    "plt.xlim(0,365)\n",
    "plt.xlabel(\"time [days]\")\n",
    "plt.ylabel(\"gravity [m/s^2]\")\n",
    "plt.show()\n",
    "\n",
    "# zoom into first 35 days\n",
    "plt.plot(st[0].times()[0:800]/(3600*24), st[0].data[0:800], color='b')\n",
    "plt.xlabel(\"time [days]\")\n",
    "plt.ylabel(\"gravity [m/s^2]\")\n",
    "plt.show()"
   ]
  },
  {
   "cell_type": "code",
   "execution_count": null,
   "metadata": {},
   "outputs": [],
   "source": [
    "# Cell 4b - calculate spectrum\n",
    "\n",
    "\n",
    "\n"
   ]
  },
  {
   "cell_type": "code",
   "execution_count": null,
   "metadata": {},
   "outputs": [],
   "source": [
    "# Cell 4c - filtering the data\n",
    "\n",
    "HP = st.copy()\n",
    "BP = st.copy()\n",
    "BP2 = st.copy()\n",
    "\n",
    "\n",
    "\n"
   ]
  },
  {
   "cell_type": "markdown",
   "metadata": {},
   "source": [
    "#### Answer to exercise 4\n",
    "\n",
    "a) ...   \n",
    "\n",
    "b) ...  \n",
    "\n",
    "c) ...  \n"
   ]
  },
  {
   "cell_type": "markdown",
   "metadata": {},
   "source": [
    "___________________\n",
    "\n",
    "## Exercise 5\n",
    "\n",
    "In this question we are going to use a cross correlation technique to make a differential pick time. You are provided with two signals in the data directory: \n",
    "\n",
    "`data/seismogram_1.MSEED` <br>\n",
    "`data/seismogram_2.MSEED`\n",
    "\n",
    "seismogram_2.MSEED is noisy, and arrives later than seismogram_1.MSEED. We will use a cross-correlation with the better seismogram to make a more accurate pick of the arrival time on the noisy seismogram. \n",
    "\n",
    "For this question you should use the obspy function [xcorr_pick_correction()](https://docs.obspy.org/packages/autogen/obspy.signal.cross_correlation.xcorr_pick_correction.html). This is well documentated, and has good default plotting options. \n",
    "\n",
    "You are given these initial pick times. <br>\n",
    "t1 = UTCDateTime(0.335)<br>\n",
    "t2 = UTCDateTime(0.55)\n",
    "\n",
    "a) Read in the seismograms in Cell 5a. Use the function [xcorr_pick_correction](https://docs.obspy.org/packages/autogen/obspy.signal.cross_correlation.xcorr_pick_correction.html) to create a cross correlation. There is no need to filter the seismograms.  <br>\n",
    "Plot the cross correlation. Display the Time correlation and Correlation coefficient.\n",
    "\n",
    "b) What was the length of the time window you cross-correlated over? Why is this a good choice?  \n",
    "\n",
    "c) Calculate the corrected differential pick time in Cell 5b. This is the time lag between the first arrival on seismogram 1 and on seismogram 2.\n",
    "\n",
    "d) Write a short paragraph on what has been done here, and why it could be useful. \n"
   ]
  },
  {
   "cell_type": "code",
   "execution_count": null,
   "metadata": {},
   "outputs": [],
   "source": [
    "# Cell 5a - crosscorrelation\n",
    "\n",
    "\n",
    "\n"
   ]
  },
  {
   "cell_type": "code",
   "execution_count": null,
   "metadata": {},
   "outputs": [],
   "source": [
    "# Cell 5b - differential pick times\n",
    "\n",
    "\n"
   ]
  },
  {
   "cell_type": "markdown",
   "metadata": {},
   "source": [
    "### Answer to exercise 5:\n",
    "\n",
    "..."
   ]
  },
  {
   "cell_type": "markdown",
   "metadata": {},
   "source": [
    "________________\n",
    "\n",
    "## Final bonus question\n",
    "\n",
    "Between sound, tidal, and seismic/seismological data, what do you prefer to work on considering computational effort? Explain why."
   ]
  },
  {
   "cell_type": "markdown",
   "metadata": {},
   "source": [
    "### Answer to bonus question\n",
    "\n",
    "...\n"
   ]
  }
 ],
 "metadata": {
  "anaconda-cloud": {},
  "kernelspec": {
   "display_name": "Python 3",
   "language": "python",
   "name": "python3"
  },
  "language_info": {
   "codemirror_mode": {
    "name": "ipython",
    "version": 3
   },
   "file_extension": ".py",
   "mimetype": "text/x-python",
   "name": "python",
   "nbconvert_exporter": "python",
   "pygments_lexer": "ipython3",
   "version": "3.8.6"
  }
 },
 "nbformat": 4,
 "nbformat_minor": 1
}
